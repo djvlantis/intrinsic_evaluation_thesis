{
 "cells": [
  {
   "cell_type": "code",
   "execution_count": 20,
   "metadata": {},
   "outputs": [],
   "source": [
    "import pandas as pd\n",
    "import numpy as np\n",
    "import matplotlib.pyplot as plt\n"
   ]
  },
  {
   "cell_type": "code",
   "execution_count": 21,
   "metadata": {},
   "outputs": [
    {
     "name": "stdout",
     "output_type": "stream",
     "text": [
      "           word1        word2  SimLex999 POS\n",
      "0            oud        nieuw       1.94   A\n",
      "1           slim  intelligent       8.19   A\n",
      "2           hard     moeilijk       4.46   A\n",
      "3       gelukkig      vrolijk       6.49   A\n",
      "4           hard        stoer       5.69   A\n",
      "..           ...          ...        ...  ..\n",
      "994  samenvoegen    verwerven       3.89   V\n",
      "995       sturen     bijwonen       1.85   V\n",
      "996   verzamelen     bijwonen       1.06   V\n",
      "997      opnemen    intrekken       2.29   V\n",
      "998     bijwonen     aankomen       1.32   V\n",
      "\n",
      "[999 rows x 4 columns]\n"
     ]
    }
   ],
   "source": [
    "\n",
    "simlex_file = 'evaluation_data/SimLex-999-Dutch-final.txt'\n",
    "\n",
    "df = pd.read_csv(simlex_file, sep='\\t')\n",
    "#export\n",
    "print(df)\n"
   ]
  },
  {
   "cell_type": "code",
   "execution_count": 26,
   "metadata": {},
   "outputs": [],
   "source": [
    "df = pd.read_csv('results/evaluation_results_MBert.csv')"
   ]
  },
  {
   "cell_type": "code",
   "execution_count": 41,
   "metadata": {},
   "outputs": [
    {
     "name": "stdout",
     "output_type": "stream",
     "text": [
      "0.16915172544298027\n"
     ]
    }
   ],
   "source": [
    "#calculate correlation between simlex999 and similarity_score\n",
    "correlation1 = df['similarity_score'].corr(df['SimLex999'])\n",
    "print(correlation)\n"
   ]
  },
  {
   "cell_type": "code",
   "execution_count": 29,
   "metadata": {},
   "outputs": [
    {
     "data": {
      "text/plain": [
       "Text(0, 0.5, 'Frequency')"
      ]
     },
     "execution_count": 29,
     "metadata": {},
     "output_type": "execute_result"
    },
    {
     "data": {
      "image/png": "[encoded data removed]",
      "text/plain": [
       "<Figure size 640x480 with 1 Axes>"
      ]
     },
     "metadata": {},
     "output_type": "display_data"
    }
   ],
   "source": [
    "#create a histogram of the similarity_score\n",
    "plt.hist(df['similarity_score'], bins=10)\n",
    "plt.xlabel('similarity_score')\n",
    "plt.ylabel('Frequency')"
   ]
  },
  {
   "cell_type": "code",
   "execution_count": 30,
   "metadata": {},
   "outputs": [
    {
     "name": "stdout",
     "output_type": "stream",
     "text": [
      "noun correlation score: 0.01692348099524715\n",
      "verb correlation score: 0.04262597288207308\n",
      "adjective correlation score: -0.037448572602277234\n"
     ]
    },
    {
     "data": {
      "image/png": "[encoded data removed]",
      "text/plain": [
       "<Figure size 640x480 with 1 Axes>"
      ]
     },
     "metadata": {},
     "output_type": "display_data"
    }
   ],
   "source": [
    "#split the data based on pos\n",
    "df_nouns = df[df['POS'] == 'N']\n",
    "df_verbs = df[df['POS'] == 'V']\n",
    "df_adjectives = df[df['POS'] == 'A']\n",
    "\n",
    "#create a hist of the similarity_score for each pos\n",
    "plt.hist(df_nouns['similarity_score'], bins=20)\n",
    "plt.xlabel('similarity_score')\n",
    "plt.ylabel('Frequency')\n",
    "plt.title('Nouns')\n",
    "\n",
    "plt.hist(df_verbs['similarity_score'], bins=20)\n",
    "plt.xlabel('similarity_score')\n",
    "plt.ylabel('Frequency')\n",
    "plt.title('Verbs')\n",
    "\n",
    "plt.hist(df_adjectives['similarity_score'], bins=20)\n",
    "plt.xlabel('similarity_score')\n",
    "plt.ylabel('Frequency')\n",
    "plt.title('Adjectives')\n",
    "\n",
    "#calculate the correlation between simlex999 and similarity_score for each pos\n",
    "correlation_nouns = df_nouns['similarity_score'].corr(df_nouns['SimLex999'])\n",
    "correlation_verbs = df_verbs['similarity_score'].corr(df_verbs['SimLex999'])\n",
    "correlation_adjectives = df_adjectives['similarity_score'].corr(df_adjectives['SimLex999'])\n",
    "\n",
    "print(\"noun correlation score: \" + str(correlation_nouns))\n",
    "print(\"verb correlation score: \" + str(correlation_verbs))\n",
    "print(\"adjective correlation score: \" + str(correlation_adjectives))"
   ]
  },
  {
   "cell_type": "code",
   "execution_count": 31,
   "metadata": {},
   "outputs": [
    {
     "data": {
      "text/html": [
       "<div>\n",
       "<style scoped>\n",
       "    .dataframe tbody tr th:only-of-type {\n",
       "        vertical-align: middle;\n",
       "    }\n",
       "\n",
       "    .dataframe tbody tr th {\n",
       "        vertical-align: top;\n",
       "    }\n",
       "\n",
       "    .dataframe thead th {\n",
       "        text-align: right;\n",
       "    }\n",
       "</style>\n",
       "<table border=\"1\" class=\"dataframe\">\n",
       "  <thead>\n",
       "    <tr style=\"text-align: right;\">\n",
       "      <th></th>\n",
       "      <th>word1</th>\n",
       "      <th>word2</th>\n",
       "      <th>SimLex999</th>\n",
       "      <th>POS</th>\n",
       "      <th>emb1</th>\n",
       "      <th>emb2</th>\n",
       "      <th>similarity_score</th>\n",
       "    </tr>\n",
       "  </thead>\n",
       "  <tbody>\n",
       "    <tr>\n",
       "      <th>0</th>\n",
       "      <td>oud</td>\n",
       "      <td>nieuw</td>\n",
       "      <td>1.94</td>\n",
       "      <td>A</td>\n",
       "      <td>tensor([ 2.4818e-01,  1.5748e-01,  9.9191e-01,...</td>\n",
       "      <td>tensor([ 4.3569e-01,  1.2785e-01,  9.9957e-01,...</td>\n",
       "      <td>0.986713</td>\n",
       "    </tr>\n",
       "    <tr>\n",
       "      <th>1</th>\n",
       "      <td>slim</td>\n",
       "      <td>intelligent</td>\n",
       "      <td>8.19</td>\n",
       "      <td>A</td>\n",
       "      <td>tensor([ 1.2335e-01, -3.7462e-02,  1.0270e+00,...</td>\n",
       "      <td>tensor([-1.2341e+00,  6.5171e-01,  3.8641e-01,...</td>\n",
       "      <td>0.073035</td>\n",
       "    </tr>\n",
       "    <tr>\n",
       "      <th>2</th>\n",
       "      <td>hard</td>\n",
       "      <td>moeilijk</td>\n",
       "      <td>4.46</td>\n",
       "      <td>A</td>\n",
       "      <td>tensor([ 2.1266e-01,  8.8889e-02,  1.0500e+00,...</td>\n",
       "      <td>tensor([-1.0814e+00,  5.6073e-01,  2.3200e-01,...</td>\n",
       "      <td>0.018382</td>\n",
       "    </tr>\n",
       "    <tr>\n",
       "      <th>3</th>\n",
       "      <td>gelukkig</td>\n",
       "      <td>vrolijk</td>\n",
       "      <td>6.49</td>\n",
       "      <td>A</td>\n",
       "      <td>tensor([ 3.0412e-01, -4.6850e-02,  9.9865e-01,...</td>\n",
       "      <td>tensor([ 4.3102e-01,  5.6253e-01,  1.0236e-01,...</td>\n",
       "      <td>0.545779</td>\n",
       "    </tr>\n",
       "    <tr>\n",
       "      <th>4</th>\n",
       "      <td>hard</td>\n",
       "      <td>stoer</td>\n",
       "      <td>5.69</td>\n",
       "      <td>A</td>\n",
       "      <td>tensor([ 2.1266e-01,  8.8889e-02,  1.0500e+00,...</td>\n",
       "      <td>tensor([-1.3481e+00,  2.3505e-01,  4.8268e-01,...</td>\n",
       "      <td>0.114207</td>\n",
       "    </tr>\n",
       "    <tr>\n",
       "      <th>...</th>\n",
       "      <td>...</td>\n",
       "      <td>...</td>\n",
       "      <td>...</td>\n",
       "      <td>...</td>\n",
       "      <td>...</td>\n",
       "      <td>...</td>\n",
       "      <td>...</td>\n",
       "    </tr>\n",
       "    <tr>\n",
       "      <th>994</th>\n",
       "      <td>samenvoegen</td>\n",
       "      <td>verwerven</td>\n",
       "      <td>3.89</td>\n",
       "      <td>V</td>\n",
       "      <td>tensor([-1.2530e+00,  3.2007e-01,  1.1724e+00,...</td>\n",
       "      <td>tensor([ 1.5200e-01, -3.5097e-02, -2.3807e-01,...</td>\n",
       "      <td>-0.028776</td>\n",
       "    </tr>\n",
       "    <tr>\n",
       "      <th>995</th>\n",
       "      <td>sturen</td>\n",
       "      <td>bijwonen</td>\n",
       "      <td>1.85</td>\n",
       "      <td>V</td>\n",
       "      <td>tensor([ 2.2654e-01,  9.4773e-02,  1.1522e+00,...</td>\n",
       "      <td>tensor([-1.4413e+00,  1.6506e-01,  2.2107e-01,...</td>\n",
       "      <td>0.092362</td>\n",
       "    </tr>\n",
       "    <tr>\n",
       "      <th>996</th>\n",
       "      <td>verzamelen</td>\n",
       "      <td>bijwonen</td>\n",
       "      <td>1.06</td>\n",
       "      <td>V</td>\n",
       "      <td>tensor([-6.1435e-01,  8.0777e-02,  3.7503e-01,...</td>\n",
       "      <td>tensor([-1.4413e+00,  1.6506e-01,  2.2107e-01,...</td>\n",
       "      <td>0.643723</td>\n",
       "    </tr>\n",
       "    <tr>\n",
       "      <th>997</th>\n",
       "      <td>opnemen</td>\n",
       "      <td>intrekken</td>\n",
       "      <td>2.29</td>\n",
       "      <td>V</td>\n",
       "      <td>tensor([-1.4783e+00,  1.0814e-01,  7.3894e-01,...</td>\n",
       "      <td>tensor([-1.4971e+00,  2.8520e-01,  3.8638e-01,...</td>\n",
       "      <td>0.630898</td>\n",
       "    </tr>\n",
       "    <tr>\n",
       "      <th>998</th>\n",
       "      <td>bijwonen</td>\n",
       "      <td>aankomen</td>\n",
       "      <td>1.32</td>\n",
       "      <td>V</td>\n",
       "      <td>tensor([-1.4413e+00,  1.6506e-01,  2.2107e-01,...</td>\n",
       "      <td>tensor([-6.4014e-01,  7.0617e-01, -6.7966e-02,...</td>\n",
       "      <td>0.627856</td>\n",
       "    </tr>\n",
       "  </tbody>\n",
       "</table>\n",
       "<p>999 rows × 7 columns</p>\n",
       "</div>"
      ],
      "text/plain": [
       "           word1        word2  SimLex999 POS  \\\n",
       "0            oud        nieuw       1.94   A   \n",
       "1           slim  intelligent       8.19   A   \n",
       "2           hard     moeilijk       4.46   A   \n",
       "3       gelukkig      vrolijk       6.49   A   \n",
       "4           hard        stoer       5.69   A   \n",
       "..           ...          ...        ...  ..   \n",
       "994  samenvoegen    verwerven       3.89   V   \n",
       "995       sturen     bijwonen       1.85   V   \n",
       "996   verzamelen     bijwonen       1.06   V   \n",
       "997      opnemen    intrekken       2.29   V   \n",
       "998     bijwonen     aankomen       1.32   V   \n",
       "\n",
       "                                                  emb1  \\\n",
       "0    tensor([ 2.4818e-01,  1.5748e-01,  9.9191e-01,...   \n",
       "1    tensor([ 1.2335e-01, -3.7462e-02,  1.0270e+00,...   \n",
       "2    tensor([ 2.1266e-01,  8.8889e-02,  1.0500e+00,...   \n",
       "3    tensor([ 3.0412e-01, -4.6850e-02,  9.9865e-01,...   \n",
       "4    tensor([ 2.1266e-01,  8.8889e-02,  1.0500e+00,...   \n",
       "..                                                 ...   \n",
       "994  tensor([-1.2530e+00,  3.2007e-01,  1.1724e+00,...   \n",
       "995  tensor([ 2.2654e-01,  9.4773e-02,  1.1522e+00,...   \n",
       "996  tensor([-6.1435e-01,  8.0777e-02,  3.7503e-01,...   \n",
       "997  tensor([-1.4783e+00,  1.0814e-01,  7.3894e-01,...   \n",
       "998  tensor([-1.4413e+00,  1.6506e-01,  2.2107e-01,...   \n",
       "\n",
       "                                                  emb2  similarity_score  \n",
       "0    tensor([ 4.3569e-01,  1.2785e-01,  9.9957e-01,...          0.986713  \n",
       "1    tensor([-1.2341e+00,  6.5171e-01,  3.8641e-01,...          0.073035  \n",
       "2    tensor([-1.0814e+00,  5.6073e-01,  2.3200e-01,...          0.018382  \n",
       "3    tensor([ 4.3102e-01,  5.6253e-01,  1.0236e-01,...          0.545779  \n",
       "4    tensor([-1.3481e+00,  2.3505e-01,  4.8268e-01,...          0.114207  \n",
       "..                                                 ...               ...  \n",
       "994  tensor([ 1.5200e-01, -3.5097e-02, -2.3807e-01,...         -0.028776  \n",
       "995  tensor([-1.4413e+00,  1.6506e-01,  2.2107e-01,...          0.092362  \n",
       "996  tensor([-1.4413e+00,  1.6506e-01,  2.2107e-01,...          0.643723  \n",
       "997  tensor([-1.4971e+00,  2.8520e-01,  3.8638e-01,...          0.630898  \n",
       "998  tensor([-6.4014e-01,  7.0617e-01, -6.7966e-02,...          0.627856  \n",
       "\n",
       "[999 rows x 7 columns]"
      ]
     },
     "execution_count": 31,
     "metadata": {},
     "output_type": "execute_result"
    }
   ],
   "source": [
    "df2 = pd.read_csv('results/evaluation_results_robBERT.csv')\n",
    "df2"
   ]
  },
  {
   "cell_type": "code",
   "execution_count": 40,
   "metadata": {},
   "outputs": [
    {
     "name": "stdout",
     "output_type": "stream",
     "text": [
      "0.16915172544298027\n"
     ]
    }
   ],
   "source": [
    "#calculate correlation between simlex999 and similarity_score\n",
    "correlation2 = df2['similarity_score'].corr(df2['SimLex999'])\n",
    "print(correlation)"
   ]
  },
  {
   "cell_type": "code",
   "execution_count": 32,
   "metadata": {},
   "outputs": [
    {
     "data": {
      "text/plain": [
       "Text(0, 0.5, 'Frequency')"
      ]
     },
     "execution_count": 32,
     "metadata": {},
     "output_type": "execute_result"
    },
    {
     "data": {
      "image/png": "[encoded data removed]",
      "text/plain": [
       "<Figure size 640x480 with 1 Axes>"
      ]
     },
     "metadata": {},
     "output_type": "display_data"
    }
   ],
   "source": [
    "#create a histogram of the similarity_score\n",
    "plt.hist(df2['similarity_score'], bins=10)\n",
    "plt.xlabel('similarity_score')\n",
    "plt.ylabel('Frequency')"
   ]
  },
  {
   "cell_type": "code",
   "execution_count": 33,
   "metadata": {},
   "outputs": [
    {
     "data": {
      "text/plain": [
       "count    999.000000\n",
       "mean       0.478749\n",
       "std        0.397630\n",
       "min       -0.159951\n",
       "25%        0.056075\n",
       "50%        0.521332\n",
       "75%        0.956237\n",
       "max        0.998371\n",
       "Name: similarity_score, dtype: float64"
      ]
     },
     "execution_count": 33,
     "metadata": {},
     "output_type": "execute_result"
    }
   ],
   "source": [
    "df2['similarity_score'].describe()"
   ]
  },
  {
   "cell_type": "code",
   "execution_count": 34,
   "metadata": {},
   "outputs": [
    {
     "data": {
      "text/html": [
       "<div>\n",
       "<style scoped>\n",
       "    .dataframe tbody tr th:only-of-type {\n",
       "        vertical-align: middle;\n",
       "    }\n",
       "\n",
       "    .dataframe tbody tr th {\n",
       "        vertical-align: top;\n",
       "    }\n",
       "\n",
       "    .dataframe thead th {\n",
       "        text-align: right;\n",
       "    }\n",
       "</style>\n",
       "<table border=\"1\" class=\"dataframe\">\n",
       "  <thead>\n",
       "    <tr style=\"text-align: right;\">\n",
       "      <th></th>\n",
       "      <th>word1</th>\n",
       "      <th>word2</th>\n",
       "      <th>SimLex999</th>\n",
       "      <th>POS</th>\n",
       "      <th>emb1</th>\n",
       "      <th>emb2</th>\n",
       "      <th>similarity_score</th>\n",
       "    </tr>\n",
       "  </thead>\n",
       "  <tbody>\n",
       "    <tr>\n",
       "      <th>0</th>\n",
       "      <td>oud</td>\n",
       "      <td>nieuw</td>\n",
       "      <td>1.94</td>\n",
       "      <td>A</td>\n",
       "      <td>tensor([ 9.5547e-01, -9.9767e-01, -5.4245e-01,...</td>\n",
       "      <td>tensor([ 2.8489e-01,  1.9430e-01, -8.6717e-01,...</td>\n",
       "      <td>0.435807</td>\n",
       "    </tr>\n",
       "    <tr>\n",
       "      <th>1</th>\n",
       "      <td>slim</td>\n",
       "      <td>intelligent</td>\n",
       "      <td>8.19</td>\n",
       "      <td>A</td>\n",
       "      <td>tensor([-1.1530e+00,  9.4197e-01,  8.7447e-02,...</td>\n",
       "      <td>tensor([ 1.0117e+00, -6.7705e-02, -9.3350e-01,...</td>\n",
       "      <td>0.377881</td>\n",
       "    </tr>\n",
       "    <tr>\n",
       "      <th>2</th>\n",
       "      <td>hard</td>\n",
       "      <td>moeilijk</td>\n",
       "      <td>4.46</td>\n",
       "      <td>A</td>\n",
       "      <td>tensor([-5.2024e-03,  1.3142e+00, -2.4537e-02,...</td>\n",
       "      <td>tensor([ 5.7139e-01, -2.2764e-01, -2.1033e+00,...</td>\n",
       "      <td>0.267801</td>\n",
       "    </tr>\n",
       "    <tr>\n",
       "      <th>3</th>\n",
       "      <td>gelukkig</td>\n",
       "      <td>vrolijk</td>\n",
       "      <td>6.49</td>\n",
       "      <td>A</td>\n",
       "      <td>tensor([-2.9657e-01,  2.3198e-01, -9.2379e-02,...</td>\n",
       "      <td>tensor([ 1.1311e+00,  3.4847e-01, -6.3816e-01,...</td>\n",
       "      <td>0.455954</td>\n",
       "    </tr>\n",
       "    <tr>\n",
       "      <th>4</th>\n",
       "      <td>hard</td>\n",
       "      <td>stoer</td>\n",
       "      <td>5.69</td>\n",
       "      <td>A</td>\n",
       "      <td>tensor([-5.2024e-03,  1.3142e+00, -2.4537e-02,...</td>\n",
       "      <td>tensor([ 1.8767e-01, -6.5002e-01,  2.8837e-01,...</td>\n",
       "      <td>0.457647</td>\n",
       "    </tr>\n",
       "    <tr>\n",
       "      <th>...</th>\n",
       "      <td>...</td>\n",
       "      <td>...</td>\n",
       "      <td>...</td>\n",
       "      <td>...</td>\n",
       "      <td>...</td>\n",
       "      <td>...</td>\n",
       "      <td>...</td>\n",
       "    </tr>\n",
       "    <tr>\n",
       "      <th>994</th>\n",
       "      <td>samenvoegen</td>\n",
       "      <td>verwerven</td>\n",
       "      <td>3.89</td>\n",
       "      <td>V</td>\n",
       "      <td>tensor([-3.3910e-01, -7.2106e-01, -1.2628e-01,...</td>\n",
       "      <td>tensor([-1.3930e-02,  4.2082e-02, -8.1883e-01,...</td>\n",
       "      <td>0.482045</td>\n",
       "    </tr>\n",
       "    <tr>\n",
       "      <th>995</th>\n",
       "      <td>sturen</td>\n",
       "      <td>bijwonen</td>\n",
       "      <td>1.85</td>\n",
       "      <td>V</td>\n",
       "      <td>tensor([-3.0194e-02,  6.2399e-01, -6.8489e-01,...</td>\n",
       "      <td>tensor([ 1.2600e+00,  2.2979e-01, -6.1703e-02,...</td>\n",
       "      <td>0.218722</td>\n",
       "    </tr>\n",
       "    <tr>\n",
       "      <th>996</th>\n",
       "      <td>verzamelen</td>\n",
       "      <td>bijwonen</td>\n",
       "      <td>1.06</td>\n",
       "      <td>V</td>\n",
       "      <td>tensor([-1.0099e-01,  4.0575e-01, -9.0619e-01,...</td>\n",
       "      <td>tensor([ 1.2600e+00,  2.2979e-01, -6.1703e-02,...</td>\n",
       "      <td>0.169472</td>\n",
       "    </tr>\n",
       "    <tr>\n",
       "      <th>997</th>\n",
       "      <td>opnemen</td>\n",
       "      <td>intrekken</td>\n",
       "      <td>2.29</td>\n",
       "      <td>V</td>\n",
       "      <td>tensor([ 1.4383e+00,  5.4302e-01, -8.9448e-01,...</td>\n",
       "      <td>tensor([ 5.2527e-01,  2.9747e-01,  2.9105e-02,...</td>\n",
       "      <td>0.404322</td>\n",
       "    </tr>\n",
       "    <tr>\n",
       "      <th>998</th>\n",
       "      <td>bijwonen</td>\n",
       "      <td>aankomen</td>\n",
       "      <td>1.32</td>\n",
       "      <td>V</td>\n",
       "      <td>tensor([ 1.2600e+00,  2.2979e-01, -6.1703e-02,...</td>\n",
       "      <td>tensor([-1.4912e+00,  4.1354e-01, -4.1794e-01,...</td>\n",
       "      <td>0.189706</td>\n",
       "    </tr>\n",
       "  </tbody>\n",
       "</table>\n",
       "<p>999 rows × 7 columns</p>\n",
       "</div>"
      ],
      "text/plain": [
       "           word1        word2  SimLex999 POS  \\\n",
       "0            oud        nieuw       1.94   A   \n",
       "1           slim  intelligent       8.19   A   \n",
       "2           hard     moeilijk       4.46   A   \n",
       "3       gelukkig      vrolijk       6.49   A   \n",
       "4           hard        stoer       5.69   A   \n",
       "..           ...          ...        ...  ..   \n",
       "994  samenvoegen    verwerven       3.89   V   \n",
       "995       sturen     bijwonen       1.85   V   \n",
       "996   verzamelen     bijwonen       1.06   V   \n",
       "997      opnemen    intrekken       2.29   V   \n",
       "998     bijwonen     aankomen       1.32   V   \n",
       "\n",
       "                                                  emb1  \\\n",
       "0    tensor([ 9.5547e-01, -9.9767e-01, -5.4245e-01,...   \n",
       "1    tensor([-1.1530e+00,  9.4197e-01,  8.7447e-02,...   \n",
       "2    tensor([-5.2024e-03,  1.3142e+00, -2.4537e-02,...   \n",
       "3    tensor([-2.9657e-01,  2.3198e-01, -9.2379e-02,...   \n",
       "4    tensor([-5.2024e-03,  1.3142e+00, -2.4537e-02,...   \n",
       "..                                                 ...   \n",
       "994  tensor([-3.3910e-01, -7.2106e-01, -1.2628e-01,...   \n",
       "995  tensor([-3.0194e-02,  6.2399e-01, -6.8489e-01,...   \n",
       "996  tensor([-1.0099e-01,  4.0575e-01, -9.0619e-01,...   \n",
       "997  tensor([ 1.4383e+00,  5.4302e-01, -8.9448e-01,...   \n",
       "998  tensor([ 1.2600e+00,  2.2979e-01, -6.1703e-02,...   \n",
       "\n",
       "                                                  emb2  similarity_score  \n",
       "0    tensor([ 2.8489e-01,  1.9430e-01, -8.6717e-01,...          0.435807  \n",
       "1    tensor([ 1.0117e+00, -6.7705e-02, -9.3350e-01,...          0.377881  \n",
       "2    tensor([ 5.7139e-01, -2.2764e-01, -2.1033e+00,...          0.267801  \n",
       "3    tensor([ 1.1311e+00,  3.4847e-01, -6.3816e-01,...          0.455954  \n",
       "4    tensor([ 1.8767e-01, -6.5002e-01,  2.8837e-01,...          0.457647  \n",
       "..                                                 ...               ...  \n",
       "994  tensor([-1.3930e-02,  4.2082e-02, -8.1883e-01,...          0.482045  \n",
       "995  tensor([ 1.2600e+00,  2.2979e-01, -6.1703e-02,...          0.218722  \n",
       "996  tensor([ 1.2600e+00,  2.2979e-01, -6.1703e-02,...          0.169472  \n",
       "997  tensor([ 5.2527e-01,  2.9747e-01,  2.9105e-02,...          0.404322  \n",
       "998  tensor([-1.4912e+00,  4.1354e-01, -4.1794e-01,...          0.189706  \n",
       "\n",
       "[999 rows x 7 columns]"
      ]
     },
     "execution_count": 34,
     "metadata": {},
     "output_type": "execute_result"
    }
   ],
   "source": [
    "df3 = pd.read_csv('results/evaluation_results_bertje.csv')\n",
    "df3"
   ]
  },
  {
   "cell_type": "code",
   "execution_count": 39,
   "metadata": {},
   "outputs": [
    {
     "name": "stdout",
     "output_type": "stream",
     "text": [
      "0.16915172544298027\n"
     ]
    }
   ],
   "source": [
    "#calculate correlation between simlex999 and similarity_score\n",
    "correlation3 = df3['similarity_score'].corr(df3['SimLex999'])\n",
    "print(correlation)\n"
   ]
  },
  {
   "cell_type": "code",
   "execution_count": 36,
   "metadata": {},
   "outputs": [
    {
     "data": {
      "text/plain": [
       "Text(0, 0.5, 'Frequency')"
      ]
     },
     "execution_count": 36,
     "metadata": {},
     "output_type": "execute_result"
    },
    {
     "data": {
      "image/png": "[encoded data removed]",
      "text/plain": [
       "<Figure size 640x480 with 1 Axes>"
      ]
     },
     "metadata": {},
     "output_type": "display_data"
    }
   ],
   "source": [
    "\n",
    "plt.hist(df3['similarity_score'], bins=10)\n",
    "plt.xlabel('similarity_score')\n",
    "plt.ylabel('Frequency')"
   ]
  },
  {
   "cell_type": "code",
   "execution_count": 37,
   "metadata": {},
   "outputs": [
    {
     "data": {
      "text/html": [
       "<div>\n",
       "<style scoped>\n",
       "    .dataframe tbody tr th:only-of-type {\n",
       "        vertical-align: middle;\n",
       "    }\n",
       "\n",
       "    .dataframe tbody tr th {\n",
       "        vertical-align: top;\n",
       "    }\n",
       "\n",
       "    .dataframe thead th {\n",
       "        text-align: right;\n",
       "    }\n",
       "</style>\n",
       "<table border=\"1\" class=\"dataframe\">\n",
       "  <thead>\n",
       "    <tr style=\"text-align: right;\">\n",
       "      <th></th>\n",
       "      <th>word1</th>\n",
       "      <th>word2</th>\n",
       "      <th>SimLex999</th>\n",
       "      <th>POS</th>\n",
       "      <th>emb1</th>\n",
       "      <th>emb2</th>\n",
       "      <th>similarity_score</th>\n",
       "    </tr>\n",
       "  </thead>\n",
       "  <tbody>\n",
       "    <tr>\n",
       "      <th>0</th>\n",
       "      <td>oud</td>\n",
       "      <td>nieuw</td>\n",
       "      <td>1.94</td>\n",
       "      <td>A</td>\n",
       "      <td>tensor([24.0479, -0.3200, 32.1239,  ..., 20.37...</td>\n",
       "      <td>tensor([31.8642, -0.2964, 39.4570,  ..., 22.93...</td>\n",
       "      <td>0.995386</td>\n",
       "    </tr>\n",
       "    <tr>\n",
       "      <th>1</th>\n",
       "      <td>slim</td>\n",
       "      <td>intelligent</td>\n",
       "      <td>8.19</td>\n",
       "      <td>A</td>\n",
       "      <td>tensor([27.0840, -0.2627, 39.2540,  ..., 23.25...</td>\n",
       "      <td>tensor([19.4985, -0.0980, 23.1746,  ..., 11.38...</td>\n",
       "      <td>0.980671</td>\n",
       "    </tr>\n",
       "    <tr>\n",
       "      <th>2</th>\n",
       "      <td>hard</td>\n",
       "      <td>moeilijk</td>\n",
       "      <td>4.46</td>\n",
       "      <td>A</td>\n",
       "      <td>tensor([20.4077, -0.1183, 21.9709,  ..., 12.37...</td>\n",
       "      <td>tensor([26.2096, -0.2628, 33.2101,  ..., 17.65...</td>\n",
       "      <td>0.988220</td>\n",
       "    </tr>\n",
       "    <tr>\n",
       "      <th>3</th>\n",
       "      <td>gelukkig</td>\n",
       "      <td>vrolijk</td>\n",
       "      <td>6.49</td>\n",
       "      <td>A</td>\n",
       "      <td>tensor([20.6892, -0.4348, 42.2072,  ..., 25.61...</td>\n",
       "      <td>tensor([25.9254, -0.4450, 37.0086,  ..., 19.89...</td>\n",
       "      <td>0.991489</td>\n",
       "    </tr>\n",
       "    <tr>\n",
       "      <th>4</th>\n",
       "      <td>hard</td>\n",
       "      <td>stoer</td>\n",
       "      <td>5.69</td>\n",
       "      <td>A</td>\n",
       "      <td>tensor([20.4077, -0.1183, 21.9709,  ..., 12.37...</td>\n",
       "      <td>tensor([17.6566, -0.1346, 22.5181,  ..., 14.20...</td>\n",
       "      <td>0.988865</td>\n",
       "    </tr>\n",
       "    <tr>\n",
       "      <th>...</th>\n",
       "      <td>...</td>\n",
       "      <td>...</td>\n",
       "      <td>...</td>\n",
       "      <td>...</td>\n",
       "      <td>...</td>\n",
       "      <td>...</td>\n",
       "      <td>...</td>\n",
       "    </tr>\n",
       "    <tr>\n",
       "      <th>994</th>\n",
       "      <td>samenvoegen</td>\n",
       "      <td>verwerven</td>\n",
       "      <td>3.89</td>\n",
       "      <td>V</td>\n",
       "      <td>tensor([17.3483, -0.6245, 40.2157,  ..., 24.49...</td>\n",
       "      <td>tensor([18.7086, -0.4204, 28.4689,  ..., 17.60...</td>\n",
       "      <td>0.993636</td>\n",
       "    </tr>\n",
       "    <tr>\n",
       "      <th>995</th>\n",
       "      <td>sturen</td>\n",
       "      <td>bijwonen</td>\n",
       "      <td>1.85</td>\n",
       "      <td>V</td>\n",
       "      <td>tensor([39.0422, -0.3533, 45.3214,  ..., 25.94...</td>\n",
       "      <td>tensor([20.9480, -0.6927, 42.5515,  ..., 27.33...</td>\n",
       "      <td>0.993105</td>\n",
       "    </tr>\n",
       "    <tr>\n",
       "      <th>996</th>\n",
       "      <td>verzamelen</td>\n",
       "      <td>bijwonen</td>\n",
       "      <td>1.06</td>\n",
       "      <td>V</td>\n",
       "      <td>tensor([24.9928, -0.4168, 34.2007,  ..., 22.08...</td>\n",
       "      <td>tensor([20.9480, -0.6927, 42.5515,  ..., 27.33...</td>\n",
       "      <td>0.995365</td>\n",
       "    </tr>\n",
       "    <tr>\n",
       "      <th>997</th>\n",
       "      <td>opnemen</td>\n",
       "      <td>intrekken</td>\n",
       "      <td>2.29</td>\n",
       "      <td>V</td>\n",
       "      <td>tensor([38.6907, -0.4579, 44.4142,  ..., 25.43...</td>\n",
       "      <td>tensor([18.6534, -0.1225, 24.3847,  ..., 14.61...</td>\n",
       "      <td>0.992868</td>\n",
       "    </tr>\n",
       "    <tr>\n",
       "      <th>998</th>\n",
       "      <td>bijwonen</td>\n",
       "      <td>aankomen</td>\n",
       "      <td>1.32</td>\n",
       "      <td>V</td>\n",
       "      <td>tensor([20.9480, -0.6927, 42.5515,  ..., 27.33...</td>\n",
       "      <td>tensor([21.9528, -0.2772, 29.9312,  ..., 18.85...</td>\n",
       "      <td>0.994095</td>\n",
       "    </tr>\n",
       "  </tbody>\n",
       "</table>\n",
       "<p>999 rows × 7 columns</p>\n",
       "</div>"
      ],
      "text/plain": [
       "           word1        word2  SimLex999 POS  \\\n",
       "0            oud        nieuw       1.94   A   \n",
       "1           slim  intelligent       8.19   A   \n",
       "2           hard     moeilijk       4.46   A   \n",
       "3       gelukkig      vrolijk       6.49   A   \n",
       "4           hard        stoer       5.69   A   \n",
       "..           ...          ...        ...  ..   \n",
       "994  samenvoegen    verwerven       3.89   V   \n",
       "995       sturen     bijwonen       1.85   V   \n",
       "996   verzamelen     bijwonen       1.06   V   \n",
       "997      opnemen    intrekken       2.29   V   \n",
       "998     bijwonen     aankomen       1.32   V   \n",
       "\n",
       "                                                  emb1  \\\n",
       "0    tensor([24.0479, -0.3200, 32.1239,  ..., 20.37...   \n",
       "1    tensor([27.0840, -0.2627, 39.2540,  ..., 23.25...   \n",
       "2    tensor([20.4077, -0.1183, 21.9709,  ..., 12.37...   \n",
       "3    tensor([20.6892, -0.4348, 42.2072,  ..., 25.61...   \n",
       "4    tensor([20.4077, -0.1183, 21.9709,  ..., 12.37...   \n",
       "..                                                 ...   \n",
       "994  tensor([17.3483, -0.6245, 40.2157,  ..., 24.49...   \n",
       "995  tensor([39.0422, -0.3533, 45.3214,  ..., 25.94...   \n",
       "996  tensor([24.9928, -0.4168, 34.2007,  ..., 22.08...   \n",
       "997  tensor([38.6907, -0.4579, 44.4142,  ..., 25.43...   \n",
       "998  tensor([20.9480, -0.6927, 42.5515,  ..., 27.33...   \n",
       "\n",
       "                                                  emb2  similarity_score  \n",
       "0    tensor([31.8642, -0.2964, 39.4570,  ..., 22.93...          0.995386  \n",
       "1    tensor([19.4985, -0.0980, 23.1746,  ..., 11.38...          0.980671  \n",
       "2    tensor([26.2096, -0.2628, 33.2101,  ..., 17.65...          0.988220  \n",
       "3    tensor([25.9254, -0.4450, 37.0086,  ..., 19.89...          0.991489  \n",
       "4    tensor([17.6566, -0.1346, 22.5181,  ..., 14.20...          0.988865  \n",
       "..                                                 ...               ...  \n",
       "994  tensor([18.7086, -0.4204, 28.4689,  ..., 17.60...          0.993636  \n",
       "995  tensor([20.9480, -0.6927, 42.5515,  ..., 27.33...          0.993105  \n",
       "996  tensor([20.9480, -0.6927, 42.5515,  ..., 27.33...          0.995365  \n",
       "997  tensor([18.6534, -0.1225, 24.3847,  ..., 14.61...          0.992868  \n",
       "998  tensor([21.9528, -0.2772, 29.9312,  ..., 18.85...          0.994095  \n",
       "\n",
       "[999 rows x 7 columns]"
      ]
     },
     "execution_count": 37,
     "metadata": {},
     "output_type": "execute_result"
    }
   ],
   "source": [
    "import pandas as pd\n",
    "df4 = pd.read_csv('results/evaluation_results_XLM-Roberta.csv')\n",
    "df4"
   ]
  },
  {
   "cell_type": "code",
   "execution_count": 38,
   "metadata": {},
   "outputs": [
    {
     "name": "stdout",
     "output_type": "stream",
     "text": [
      "0.16915172544298027\n"
     ]
    }
   ],
   "source": [
    "#calculate correlation between simlex999 and similarity_score\n",
    "correlation4 = df4['similarity_score'].corr(df4['SimLex999'])\n",
    "print(correlation)"
   ]
  },
  {
   "cell_type": "code",
   "execution_count": 45,
   "metadata": {},
   "outputs": [
    {
     "data": {
      "text/plain": [
       "Text(0.5, 1.0, 'Pearson Correlation to Dutch-Simlex999')"
      ]
     },
     "execution_count": 45,
     "metadata": {},
     "output_type": "execute_result"
    },
    {
     "data": {
      "image/png": "[encoded data removed]",
      "text/plain": [
       "<Figure size 640x480 with 1 Axes>"
      ]
     },
     "metadata": {},
     "output_type": "display_data"
    }
   ],
   "source": [
    "#plot all correlation scores in a bar chart\n",
    "correlations = [correlation1, correlation2, correlation3, correlation4]\n",
    "models = ['mBERT', 'RobBERT', 'bertje', 'XLM-Roberta']\n",
    "plt.bar(models, correlations)\n",
    "plt.xlabel('Models')\n",
    "plt.ylabel('Correlation score')\n",
    "plt.title('Pearson Correlation to Dutch-Simlex999')"
   ]
  },
  {
   "cell_type": "code",
   "execution_count": null,
   "metadata": {},
   "outputs": [],
   "source": []
  }
 ],
 "metadata": {
  "kernelspec": {
   "display_name": "Python 3",
   "language": "python",
   "name": "python3"
  },
  "language_info": {
   "codemirror_mode": {
    "name": "ipython",
    "version": 3
   },
   "file_extension": ".py",
   "mimetype": "text/x-python",
   "name": "python",
   "nbconvert_exporter": "python",
   "pygments_lexer": "ipython3",
   "version": "3.11.4"
  }
 },
 "nbformat": 4,
 "nbformat_minor": 2
}
